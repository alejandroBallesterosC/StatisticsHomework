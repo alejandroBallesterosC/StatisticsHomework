{
 "cells": [
  {
   "cell_type": "code",
   "execution_count": null,
   "metadata": {},
   "outputs": [],
   "source": [
    "import numpy as np\n",
    "import matplotlib as mpl\n",
    "import matplotlib.pyplot as plt\n",
    "from statistics import stdev\n",
    "import pandas as pd\n",
    "from scipy import stats"
   ]
  },
  {
   "cell_type": "markdown",
   "metadata": {},
   "source": [
    "## Sample Given"
   ]
  },
  {
   "cell_type": "code",
   "execution_count": null,
   "metadata": {},
   "outputs": [],
   "source": [
    "#####inputs\n",
    "sample = list(map(float,input(\"\\nEnter the sample : \").strip().split()))\n",
    "one_sided = input(\"one-sided test? \")\n",
    "true_avg = float(input(\"What is the hypothesized true average? \"))\n",
    "if one_sided == \"T\":\n",
    "  one_sided = True\n",
    "else:\n",
    "  one_sided = False\n",
    "alpha = float(input(\"enter alpha: \"))\n",
    "if one_sided:\n",
    "  left = input(\"left one sided test?\")\n",
    "  if left == \"T\":\n",
    "    left = True\n",
    "  else:\n",
    "    left = False\n",
    "#####Compute Values\n",
    "n = len(sample)\n",
    "s = stdev(sample)\n",
    "sample_avg = np.mean(sample)\n",
    "tval = (sample_avg-true_avg)/(s/np.sqrt(n))\n",
    "df = n-1\n",
    "if one_sided and left:\n",
    "  tcrit = stats.t.ppf(alpha, df)\n",
    "elif one_sided:\n",
    "  tcrit = stats.t.isf(alpha, df)\n",
    "else:\n",
    "  temp = stats.t.isf(alpha/2, df)\n",
    "  tcrit = (-1*temp, temp)\n",
    "#####Print Values\n",
    "print(\"n= \"+str(n))\n",
    "print(\"s= \"+str(s))\n",
    "print(\"mu= \"+str(sample_avg))\n",
    "print(\"t= \"+str(tval))\n",
    "print(\"tcrit= \"+str(tcrit))\n",
    "####Hypothesis Rejection\n",
    "if one_sided and left:\n",
    "    if tval<t_crit:\n",
    "        print(\"REJECT NULL HYPOTHESIS\")\n",
    "    else:\n",
    "        print(\"FAIL TO REJECT NULL AT \"+str(alpha)+\" LEVEL OF SIGNIFICANCE\")\n",
    "elif one_sided:\n",
    "    if tval>tcrit:\n",
    "        print(\"REJECT NULL HYPOTHESIS\")\n",
    "    else:\n",
    "        print(\"FAIL TO REJECT NULL AT \"+str(alpha)+\" LEVEL OF SIGNIFICANCE\")\n",
    "else:\n",
    "    if tval>0 and tval> temp:\n",
    "        print(\"REJECT NULL HYPOTHESIS\")\n",
    "    elif tval<0 and tval<temp:\n",
    "        print(\"REJECT NULL HYPOTHESIS\")\n",
    "    else:\n",
    "        print(\"FAIL TO REJECT NULL AT \"+str(alpha)+\" LEVEL OF SIGNIFICANCE\")\n",
    "####Plot T, Tcrit\n",
    "fig, ax = plt.subplots(1, 1)\n",
    "x = np.linspace(stats.t.ppf(0.001, df),stats.t.ppf(0.999, df), 1000)\n",
    "ax.plot(x, stats.t.pdf(x, df),'b-', lw=5, alpha=0.6, label='t dist')\n",
    "if one_sided:\n",
    "    ax.plot(tcrit, 0, 'r*', label='tcrit')\n",
    "else:\n",
    "    ax.plot(tcrit[0], 0, 'r*', label='tcrit')\n",
    "    ax.plot(tcrit[1], 0, 'r*', label='tcrit')\n",
    "ax.plot(tval,0,'g*', label='t')"
   ]
  },
  {
   "cell_type": "markdown",
   "metadata": {},
   "source": [
    "## No Sample Given"
   ]
  },
  {
   "cell_type": "code",
   "execution_count": 136,
   "metadata": {},
   "outputs": [],
   "source": [
    "d = {'Inhalants': [16, 22, 13], 'South': [9, 30, 18], 'East': [5, 8, 10]}\n",
    "I = pd.Index([\"12-17\", \"18-25\", \"26+\"], name=\"\")\n",
    "df = pd.DataFrame(data=d, index=I)"
   ]
  },
  {
   "cell_type": "code",
   "execution_count": 137,
   "metadata": {},
   "outputs": [
    {
     "data": {
      "text/html": [
       "<div>\n",
       "<style scoped>\n",
       "    .dataframe tbody tr th:only-of-type {\n",
       "        vertical-align: middle;\n",
       "    }\n",
       "\n",
       "    .dataframe tbody tr th {\n",
       "        vertical-align: top;\n",
       "    }\n",
       "\n",
       "    .dataframe thead th {\n",
       "        text-align: right;\n",
       "    }\n",
       "</style>\n",
       "<table border=\"1\" class=\"dataframe\">\n",
       "  <thead>\n",
       "    <tr style=\"text-align: right;\">\n",
       "      <th></th>\n",
       "      <th>Inhalants</th>\n",
       "      <th>South</th>\n",
       "      <th>East</th>\n",
       "    </tr>\n",
       "    <tr>\n",
       "      <th></th>\n",
       "      <th></th>\n",
       "      <th></th>\n",
       "      <th></th>\n",
       "    </tr>\n",
       "  </thead>\n",
       "  <tbody>\n",
       "    <tr>\n",
       "      <th>12-17</th>\n",
       "      <td>16</td>\n",
       "      <td>9</td>\n",
       "      <td>5</td>\n",
       "    </tr>\n",
       "    <tr>\n",
       "      <th>18-25</th>\n",
       "      <td>22</td>\n",
       "      <td>30</td>\n",
       "      <td>8</td>\n",
       "    </tr>\n",
       "    <tr>\n",
       "      <th>26+</th>\n",
       "      <td>13</td>\n",
       "      <td>18</td>\n",
       "      <td>10</td>\n",
       "    </tr>\n",
       "  </tbody>\n",
       "</table>\n",
       "</div>"
      ],
      "text/plain": [
       "       Inhalants  South  East\n",
       "                             \n",
       "12-17         16      9     5\n",
       "18-25         22     30     8\n",
       "26+           13     18    10"
      ]
     },
     "execution_count": 137,
     "metadata": {},
     "output_type": "execute_result"
    }
   ],
   "source": [
    "df"
   ]
  },
  {
   "cell_type": "code",
   "execution_count": 138,
   "metadata": {},
   "outputs": [
    {
     "name": "stdout",
     "output_type": "stream",
     "text": [
      "\n",
      "11.679389312977099\n",
      "13.053435114503817\n",
      "5.267175572519084\n",
      "\n",
      "23.358778625954198\n",
      "26.106870229007633\n",
      "10.534351145038167\n",
      "\n",
      "15.961832061068701\n",
      "17.83969465648855\n",
      "7.198473282442748\n"
     ]
    }
   ],
   "source": [
    "row_sum = df.sum(axis=1).tolist()\n",
    "col_sum = df.sum(axis=0).tolist()\n",
    "grand_total = np.sum(row_sum)\n",
    "num_rows, num_cols = df.shape\n",
    "dof = (num_rows-1)*(num_cols-1)\n",
    "E = 0\n",
    "chi_2 = 0\n",
    "for r in range (num_rows):\n",
    "    print(\"\")\n",
    "    for c in range (num_cols):\n",
    "        exp = row_sum[r]*col_sum[c]/grand_total\n",
    "        print(exp)\n",
    "        obs = df.iat[r,c]\n",
    "        chi_2 += ((obs-exp)**2)/exp"
   ]
  },
  {
   "cell_type": "code",
   "execution_count": 141,
   "metadata": {},
   "outputs": [],
   "source": [
    "alpha = 0.1\n",
    "chi2_crit = stats.chi2.isf(alpha, dof)"
   ]
  },
  {
   "cell_type": "code",
   "execution_count": 142,
   "metadata": {},
   "outputs": [
    {
     "name": "stdout",
     "output_type": "stream",
     "text": [
      "5.781239637675686 7.779440339734858 4\n"
     ]
    },
    {
     "data": {
      "image/png": "[encoded data removed]",
      "text/plain": [
       "<Figure size 432x288 with 1 Axes>"
      ]
     },
     "metadata": {
      "needs_background": "light"
     },
     "output_type": "display_data"
    }
   ],
   "source": [
    "fig, ax = plt.subplots(1, 1)\n",
    "x = np.linspace(stats.chi2.ppf(0.01, dof),stats.chi2.ppf(0.99, dof), 100)\n",
    "ax.plot(x, stats.chi2.pdf(x, dof),'r-', lw=5, alpha=0.6, label='chi2 pdf')\n",
    "ax.plot(chi2_crit, stats.chi2.pdf(chi2_crit, dof), 'g*')\n",
    "ax.plot(chi_2,stats.chi2.pdf(chi_2, dof), 'b*')\n",
    "print(chi_2, chi2_crit, dof)"
   ]
  },
  {
   "cell_type": "code",
   "execution_count": null,
   "metadata": {},
   "outputs": [],
   "source": []
  },
  {
   "cell_type": "code",
   "execution_count": null,
   "metadata": {},
   "outputs": [],
   "source": []
  }
 ],
 "metadata": {
  "kernelspec": {
   "display_name": "StatsHomework_env",
   "language": "python",
   "name": "statshomework_env"
  },
  "language_info": {
   "codemirror_mode": {
    "name": "ipython",
    "version": 3
   },
   "file_extension": ".py",
   "mimetype": "text/x-python",
   "name": "python",
   "nbconvert_exporter": "python",
   "pygments_lexer": "ipython3",
   "version": "3.7.6"
  }
 },
 "nbformat": 4,
 "nbformat_minor": 4
}
